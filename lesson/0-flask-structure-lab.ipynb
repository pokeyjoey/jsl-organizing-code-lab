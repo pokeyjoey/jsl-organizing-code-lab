{
 "cells": [
  {
   "cell_type": "markdown",
   "id": "f23c43e5-e8e2-4366-a8ae-e1017ff02a3d",
   "metadata": {},
   "source": [
    "# Flask Structure Lab"
   ]
  },
  {
   "cell_type": "markdown",
   "id": "1024fde4-09b1-4ad4-99c8-aa8ab6431dae",
   "metadata": {},
   "source": [
    "### Introduction"
   ]
  },
  {
   "cell_type": "markdown",
   "id": "3a1d9867-8c04-4586-b0f2-11bbe1129ba0",
   "metadata": {},
   "source": [
    "In this lesson, we'll work on refactoring our foursquare flask code base."
   ]
  },
  {
   "cell_type": "markdown",
   "id": "25878063-8343-4b93-886a-f1a3b7bc4638",
   "metadata": {},
   "source": [
    "### Adding an Environment"
   ]
  },
  {
   "cell_type": "markdown",
   "id": "98eddedf-7c16-45ff-ab96-17292ed09379",
   "metadata": {},
   "source": [
    "If you look at the structure of our Flask application, you'll see that it looks like the following:"
   ]
  },
  {
   "cell_type": "markdown",
   "id": "991576e1-e6e6-46f0-ba3d-2b461c571a9d",
   "metadata": {},
   "source": [
    "```\n",
    "backend\n",
    "├── api\n",
    "│   ├── __init__.py\n",
    "│   ├── category.py\n",
    "│   ├── main.py\n",
    "│   └── venue.py\n",
    "├── migrations\n",
    "│   └── create_tables.sql\n",
    "├── requirements.txt\n",
    "├── seed.py\n",
    "├── tests\n",
    "│   ├── __init__.py\n",
    "│   └── test_app.py\n",
    "└── yelp-lunch-nyc.csv\n",
    "```"
   ]
  },
  {
   "cell_type": "markdown",
   "id": "03aab28f-244c-4588-9de6-05c24abd4e7a",
   "metadata": {},
   "source": [
    "Notice that we are currently referencing the database with hard coded variables directly in our routes."
   ]
  },
  {
   "cell_type": "markdown",
   "id": "5237e2c3-0da8-42ad-ad46-e2c8dd092c6b",
   "metadata": {},
   "source": [
    "```python\n",
    "def venues():\n",
    "    conn = psycopg2.connect(database = 'foursquare_development', user = 'postgres', password = 'postgres')\n",
    "```"
   ]
  },
  {
   "cell_type": "markdown",
   "id": "eafb325e-5dc6-4368-a79a-6bb281d2bd74",
   "metadata": {},
   "source": [
    "Update our code so that we can instead access our code through the application's config object.  Doing so properly requires a couple of steps:\n",
    "\n",
    "1. First create a .env file that has environmental variables for the `database_name` and `user` (we can leave out the password).\n",
    "2. Then use the `dot_env` library to load these environmental variables into a `settings.py` file\n",
    "3. Then use the `app.config.from_mapping` method to set these variables on our flask application\n",
    "4. And when setting the variables on the in the `psycopg2.connect` method, access these values from the application's config file."
   ]
  },
  {
   "cell_type": "markdown",
   "id": "e74f3593-1758-4788-ab2f-9692699c6fd5",
   "metadata": {},
   "source": [
    "Remember that the reason for us moving to this structure is so that we can now simply change the values in our `.env` file and the configuration of our Flask app will update."
   ]
  },
  {
   "cell_type": "markdown",
   "id": "898dff45-b3b8-46e4-a70d-ca9e9b1fe258",
   "metadata": {},
   "source": [
    "### Updating our Folder Structure"
   ]
  },
  {
   "cell_type": "markdown",
   "id": "0fe750bd-478a-44ef-a304-4bb54484c09c",
   "metadata": {},
   "source": [
    "Next, let's update the structure of our files.  We want to move the `category.py` and `venue.py` files into a `models` folder.  Then update the `main.py` file so we are still importing the files with the correct path."
   ]
  },
  {
   "cell_type": "markdown",
   "id": "83ecdd04-e0c0-41fa-a5c9-75b4e5908aed",
   "metadata": {},
   "source": [
    "Next, you'll notice that we have `tests` folder.  But if you run `pytest tests`, you should see the following error."
   ]
  },
  {
   "cell_type": "markdown",
   "id": "2530753b-16fe-43bc-9ae1-f07fe1be3b73",
   "metadata": {},
   "source": [
    "```python\n",
    "ModuleNotFoundError: No module named 'api'\n",
    "```"
   ]
  },
  {
   "cell_type": "markdown",
   "id": "bf2807e5-79d6-4ed1-a682-d178afa91da9",
   "metadata": {},
   "source": [
    "Update the code -- provide the necessary `__init__.py` files, so that this module can be found."
   ]
  },
  {
   "cell_type": "markdown",
   "id": "2076c9b9-ddeb-45ce-94e3-58b9dee71992",
   "metadata": {},
   "source": [
    "### Creating a Console"
   ]
  },
  {
   "cell_type": "markdown",
   "id": "e4738e37-6ced-4919-8ba3-19de42c7736e",
   "metadata": {},
   "source": [
    "Finally create a `backend/console.py` file.  If you run the file in interactive mode, you should be able to initialize a Venue and Category instance."
   ]
  },
  {
   "cell_type": "markdown",
   "id": "6ce9585a-4b2d-4832-9350-af0fc3c15510",
   "metadata": {},
   "source": [
    "### Resources\n",
    "\n",
    "[Stackoverflow init.py](https://stackoverflow.com/questions/14132789/relative-imports-for-the-billionth-time)\n",
    "\n",
    "[Berkeyly PythonPath](https://bic-berkeley.github.io/psych-214-fall-2016/using_pythonpath.html)"
   ]
  }
 ],
 "metadata": {
  "kernelspec": {
   "display_name": "Python 3 (ipykernel)",
   "language": "python",
   "name": "python3"
  },
  "language_info": {
   "codemirror_mode": {
    "name": "ipython",
    "version": 3
   },
   "file_extension": ".py",
   "mimetype": "text/x-python",
   "name": "python",
   "nbconvert_exporter": "python",
   "pygments_lexer": "ipython3",
   "version": "3.9.7"
  }
 },
 "nbformat": 4,
 "nbformat_minor": 5
}
